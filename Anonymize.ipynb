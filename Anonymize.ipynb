{
 "cells": [
  {
   "cell_type": "code",
   "execution_count": 1,
   "metadata": {},
   "outputs": [
    {
     "name": "stdout",
     "output_type": "stream",
     "text": [
      "\u001b[33mDEPRECATION: Configuring installation scheme with distutils config files is deprecated and will no longer work in the near future. If you are using a Homebrew or Linuxbrew Python, please see discussion at https://github.com/Homebrew/homebrew-core/issues/76621\u001b[0m\u001b[33m\n",
      "\u001b[0mRequirement already satisfied: presidio_analyzer in /opt/homebrew/lib/python3.8/site-packages (2.2.33)\n",
      "Requirement already satisfied: presidio_anonymizer in /opt/homebrew/lib/python3.8/site-packages (2.2.33)\n",
      "Requirement already satisfied: regex in /opt/homebrew/lib/python3.8/site-packages (from presidio_analyzer) (2023.5.5)\n",
      "Requirement already satisfied: pyyaml in /opt/homebrew/lib/python3.8/site-packages (from presidio_analyzer) (6.0)\n",
      "Requirement already satisfied: spacy>=3.4.4 in /opt/homebrew/lib/python3.8/site-packages (from presidio_analyzer) (3.5.2)\n",
      "Requirement already satisfied: phonenumbers>=8.12 in /opt/homebrew/lib/python3.8/site-packages (from presidio_analyzer) (8.13.14)\n",
      "Requirement already satisfied: tldextract in /opt/homebrew/lib/python3.8/site-packages (from presidio_analyzer) (3.4.4)\n",
      "Requirement already satisfied: pycryptodome>=3.10.1 in /opt/homebrew/lib/python3.8/site-packages (from presidio_anonymizer) (3.17)\n",
      "Requirement already satisfied: langcodes<4.0.0,>=3.2.0 in /opt/homebrew/lib/python3.8/site-packages (from spacy>=3.4.4->presidio_analyzer) (3.3.0)\n",
      "Requirement already satisfied: preshed<3.1.0,>=3.0.2 in /opt/homebrew/lib/python3.8/site-packages (from spacy>=3.4.4->presidio_analyzer) (3.0.8)\n",
      "Requirement already satisfied: numpy>=1.15.0 in /opt/homebrew/lib/python3.8/site-packages (from spacy>=3.4.4->presidio_analyzer) (1.23.2)\n",
      "Requirement already satisfied: requests<3.0.0,>=2.13.0 in /opt/homebrew/lib/python3.8/site-packages (from spacy>=3.4.4->presidio_analyzer) (2.28.2)\n",
      "Requirement already satisfied: smart-open<7.0.0,>=5.2.1 in /opt/homebrew/lib/python3.8/site-packages (from spacy>=3.4.4->presidio_analyzer) (6.3.0)\n",
      "Requirement already satisfied: pydantic!=1.8,!=1.8.1,<1.11.0,>=1.7.4 in /opt/homebrew/lib/python3.8/site-packages (from spacy>=3.4.4->presidio_analyzer) (1.10.7)\n",
      "Requirement already satisfied: typer<0.8.0,>=0.3.0 in /opt/homebrew/lib/python3.8/site-packages (from spacy>=3.4.4->presidio_analyzer) (0.7.0)\n",
      "Requirement already satisfied: thinc<8.2.0,>=8.1.8 in /opt/homebrew/lib/python3.8/site-packages (from spacy>=3.4.4->presidio_analyzer) (8.1.10)\n",
      "Requirement already satisfied: catalogue<2.1.0,>=2.0.6 in /opt/homebrew/lib/python3.8/site-packages (from spacy>=3.4.4->presidio_analyzer) (2.0.8)\n",
      "Requirement already satisfied: pathy>=0.10.0 in /opt/homebrew/lib/python3.8/site-packages (from spacy>=3.4.4->presidio_analyzer) (0.10.1)\n",
      "Requirement already satisfied: spacy-legacy<3.1.0,>=3.0.11 in /opt/homebrew/lib/python3.8/site-packages (from spacy>=3.4.4->presidio_analyzer) (3.0.12)\n",
      "Requirement already satisfied: tqdm<5.0.0,>=4.38.0 in /opt/homebrew/lib/python3.8/site-packages (from spacy>=3.4.4->presidio_analyzer) (4.65.0)\n",
      "Requirement already satisfied: murmurhash<1.1.0,>=0.28.0 in /opt/homebrew/lib/python3.8/site-packages (from spacy>=3.4.4->presidio_analyzer) (1.0.9)\n",
      "Requirement already satisfied: jinja2 in /opt/homebrew/lib/python3.8/site-packages (from spacy>=3.4.4->presidio_analyzer) (3.1.2)\n",
      "Requirement already satisfied: cymem<2.1.0,>=2.0.2 in /opt/homebrew/lib/python3.8/site-packages (from spacy>=3.4.4->presidio_analyzer) (2.0.7)\n",
      "Requirement already satisfied: setuptools in /opt/homebrew/lib/python3.8/site-packages (from spacy>=3.4.4->presidio_analyzer) (57.5.0)\n",
      "Requirement already satisfied: spacy-loggers<2.0.0,>=1.0.0 in /opt/homebrew/lib/python3.8/site-packages (from spacy>=3.4.4->presidio_analyzer) (1.0.4)\n",
      "Requirement already satisfied: srsly<3.0.0,>=2.4.3 in /opt/homebrew/lib/python3.8/site-packages (from spacy>=3.4.4->presidio_analyzer) (2.4.6)\n",
      "Requirement already satisfied: wasabi<1.2.0,>=0.9.1 in /opt/homebrew/lib/python3.8/site-packages (from spacy>=3.4.4->presidio_analyzer) (1.1.1)\n",
      "Requirement already satisfied: packaging>=20.0 in /opt/homebrew/lib/python3.8/site-packages (from spacy>=3.4.4->presidio_analyzer) (23.1)\n",
      "Requirement already satisfied: idna in /opt/homebrew/lib/python3.8/site-packages (from tldextract->presidio_analyzer) (2.10)\n",
      "Requirement already satisfied: filelock>=3.0.8 in /opt/homebrew/lib/python3.8/site-packages (from tldextract->presidio_analyzer) (3.12.0)\n",
      "Requirement already satisfied: requests-file>=1.4 in /opt/homebrew/lib/python3.8/site-packages (from tldextract->presidio_analyzer) (1.5.1)\n",
      "Requirement already satisfied: typing-extensions>=4.2.0 in /opt/homebrew/lib/python3.8/site-packages (from pydantic!=1.8,!=1.8.1,<1.11.0,>=1.7.4->spacy>=3.4.4->presidio_analyzer) (4.5.0)\n",
      "Requirement already satisfied: urllib3<1.27,>=1.21.1 in /opt/homebrew/lib/python3.8/site-packages (from requests<3.0.0,>=2.13.0->spacy>=3.4.4->presidio_analyzer) (1.26.5)\n",
      "Requirement already satisfied: charset-normalizer<4,>=2 in /opt/homebrew/lib/python3.8/site-packages (from requests<3.0.0,>=2.13.0->spacy>=3.4.4->presidio_analyzer) (3.1.0)\n",
      "Requirement already satisfied: certifi>=2017.4.17 in /opt/homebrew/lib/python3.8/site-packages (from requests<3.0.0,>=2.13.0->spacy>=3.4.4->presidio_analyzer) (2023.5.7)\n",
      "Requirement already satisfied: six in /opt/homebrew/lib/python3.8/site-packages (from requests-file>=1.4->tldextract->presidio_analyzer) (1.15.0)\n",
      "Requirement already satisfied: blis<0.8.0,>=0.7.8 in /opt/homebrew/lib/python3.8/site-packages (from thinc<8.2.0,>=8.1.8->spacy>=3.4.4->presidio_analyzer) (0.7.9)\n",
      "Requirement already satisfied: confection<1.0.0,>=0.0.1 in /opt/homebrew/lib/python3.8/site-packages (from thinc<8.2.0,>=8.1.8->spacy>=3.4.4->presidio_analyzer) (0.0.4)\n",
      "Requirement already satisfied: click<9.0.0,>=7.1.1 in /opt/homebrew/lib/python3.8/site-packages (from typer<0.8.0,>=0.3.0->spacy>=3.4.4->presidio_analyzer) (8.1.3)\n",
      "Requirement already satisfied: MarkupSafe>=2.0 in /opt/homebrew/lib/python3.8/site-packages (from jinja2->spacy>=3.4.4->presidio_analyzer) (2.1.3)\n",
      "\u001b[33mDEPRECATION: Configuring installation scheme with distutils config files is deprecated and will no longer work in the near future. If you are using a Homebrew or Linuxbrew Python, please see discussion at https://github.com/Homebrew/homebrew-core/issues/76621\u001b[0m\u001b[33m\n",
      "\u001b[0m\u001b[33mDEPRECATION: Configuring installation scheme with distutils config files is deprecated and will no longer work in the near future. If you are using a Homebrew or Linuxbrew Python, please see discussion at https://github.com/Homebrew/homebrew-core/issues/76621\u001b[0m\u001b[33m\n",
      "\u001b[0mCollecting en-core-web-lg==3.5.0\n",
      "  Downloading https://github.com/explosion/spacy-models/releases/download/en_core_web_lg-3.5.0/en_core_web_lg-3.5.0-py3-none-any.whl (587.7 MB)\n",
      "\u001b[2K     \u001b[90m━━━━━━━━━━━━━━━━━━━━━━━━━━━━━━━━━━━━━━━\u001b[0m \u001b[32m587.7/587.7 MB\u001b[0m \u001b[31m4.6 MB/s\u001b[0m eta \u001b[36m0:00:00\u001b[0m00:01\u001b[0m00:01\u001b[0m\n",
      "\u001b[?25hRequirement already satisfied: spacy<3.6.0,>=3.5.0 in /opt/homebrew/lib/python3.8/site-packages (from en-core-web-lg==3.5.0) (3.5.2)\n",
      "Requirement already satisfied: wasabi<1.2.0,>=0.9.1 in /opt/homebrew/lib/python3.8/site-packages (from spacy<3.6.0,>=3.5.0->en-core-web-lg==3.5.0) (1.1.1)\n",
      "Requirement already satisfied: preshed<3.1.0,>=3.0.2 in /opt/homebrew/lib/python3.8/site-packages (from spacy<3.6.0,>=3.5.0->en-core-web-lg==3.5.0) (3.0.8)\n",
      "Requirement already satisfied: smart-open<7.0.0,>=5.2.1 in /opt/homebrew/lib/python3.8/site-packages (from spacy<3.6.0,>=3.5.0->en-core-web-lg==3.5.0) (6.3.0)\n",
      "Requirement already satisfied: typer<0.8.0,>=0.3.0 in /opt/homebrew/lib/python3.8/site-packages (from spacy<3.6.0,>=3.5.0->en-core-web-lg==3.5.0) (0.7.0)\n",
      "Requirement already satisfied: numpy>=1.15.0 in /opt/homebrew/lib/python3.8/site-packages (from spacy<3.6.0,>=3.5.0->en-core-web-lg==3.5.0) (1.23.2)\n",
      "Requirement already satisfied: jinja2 in /opt/homebrew/lib/python3.8/site-packages (from spacy<3.6.0,>=3.5.0->en-core-web-lg==3.5.0) (3.1.2)\n",
      "Requirement already satisfied: srsly<3.0.0,>=2.4.3 in /opt/homebrew/lib/python3.8/site-packages (from spacy<3.6.0,>=3.5.0->en-core-web-lg==3.5.0) (2.4.6)\n",
      "Requirement already satisfied: catalogue<2.1.0,>=2.0.6 in /opt/homebrew/lib/python3.8/site-packages (from spacy<3.6.0,>=3.5.0->en-core-web-lg==3.5.0) (2.0.8)\n",
      "Requirement already satisfied: pydantic!=1.8,!=1.8.1,<1.11.0,>=1.7.4 in /opt/homebrew/lib/python3.8/site-packages (from spacy<3.6.0,>=3.5.0->en-core-web-lg==3.5.0) (1.10.7)\n",
      "Requirement already satisfied: langcodes<4.0.0,>=3.2.0 in /opt/homebrew/lib/python3.8/site-packages (from spacy<3.6.0,>=3.5.0->en-core-web-lg==3.5.0) (3.3.0)\n",
      "Requirement already satisfied: requests<3.0.0,>=2.13.0 in /opt/homebrew/lib/python3.8/site-packages (from spacy<3.6.0,>=3.5.0->en-core-web-lg==3.5.0) (2.28.2)\n",
      "Requirement already satisfied: pathy>=0.10.0 in /opt/homebrew/lib/python3.8/site-packages (from spacy<3.6.0,>=3.5.0->en-core-web-lg==3.5.0) (0.10.1)\n",
      "Requirement already satisfied: cymem<2.1.0,>=2.0.2 in /opt/homebrew/lib/python3.8/site-packages (from spacy<3.6.0,>=3.5.0->en-core-web-lg==3.5.0) (2.0.7)\n",
      "Requirement already satisfied: thinc<8.2.0,>=8.1.8 in /opt/homebrew/lib/python3.8/site-packages (from spacy<3.6.0,>=3.5.0->en-core-web-lg==3.5.0) (8.1.10)\n",
      "Requirement already satisfied: murmurhash<1.1.0,>=0.28.0 in /opt/homebrew/lib/python3.8/site-packages (from spacy<3.6.0,>=3.5.0->en-core-web-lg==3.5.0) (1.0.9)\n",
      "Requirement already satisfied: spacy-loggers<2.0.0,>=1.0.0 in /opt/homebrew/lib/python3.8/site-packages (from spacy<3.6.0,>=3.5.0->en-core-web-lg==3.5.0) (1.0.4)\n",
      "Requirement already satisfied: setuptools in /opt/homebrew/lib/python3.8/site-packages (from spacy<3.6.0,>=3.5.0->en-core-web-lg==3.5.0) (57.5.0)\n",
      "Requirement already satisfied: spacy-legacy<3.1.0,>=3.0.11 in /opt/homebrew/lib/python3.8/site-packages (from spacy<3.6.0,>=3.5.0->en-core-web-lg==3.5.0) (3.0.12)\n",
      "Requirement already satisfied: tqdm<5.0.0,>=4.38.0 in /opt/homebrew/lib/python3.8/site-packages (from spacy<3.6.0,>=3.5.0->en-core-web-lg==3.5.0) (4.65.0)\n",
      "Requirement already satisfied: packaging>=20.0 in /opt/homebrew/lib/python3.8/site-packages (from spacy<3.6.0,>=3.5.0->en-core-web-lg==3.5.0) (23.1)\n",
      "Requirement already satisfied: typing-extensions>=4.2.0 in /opt/homebrew/lib/python3.8/site-packages (from pydantic!=1.8,!=1.8.1,<1.11.0,>=1.7.4->spacy<3.6.0,>=3.5.0->en-core-web-lg==3.5.0) (4.5.0)\n",
      "Requirement already satisfied: urllib3<1.27,>=1.21.1 in /opt/homebrew/lib/python3.8/site-packages (from requests<3.0.0,>=2.13.0->spacy<3.6.0,>=3.5.0->en-core-web-lg==3.5.0) (1.26.5)\n",
      "Requirement already satisfied: charset-normalizer<4,>=2 in /opt/homebrew/lib/python3.8/site-packages (from requests<3.0.0,>=2.13.0->spacy<3.6.0,>=3.5.0->en-core-web-lg==3.5.0) (3.1.0)\n",
      "Requirement already satisfied: certifi>=2017.4.17 in /opt/homebrew/lib/python3.8/site-packages (from requests<3.0.0,>=2.13.0->spacy<3.6.0,>=3.5.0->en-core-web-lg==3.5.0) (2023.5.7)\n",
      "Requirement already satisfied: idna<4,>=2.5 in /opt/homebrew/lib/python3.8/site-packages (from requests<3.0.0,>=2.13.0->spacy<3.6.0,>=3.5.0->en-core-web-lg==3.5.0) (2.10)\n",
      "Requirement already satisfied: blis<0.8.0,>=0.7.8 in /opt/homebrew/lib/python3.8/site-packages (from thinc<8.2.0,>=8.1.8->spacy<3.6.0,>=3.5.0->en-core-web-lg==3.5.0) (0.7.9)\n",
      "Requirement already satisfied: confection<1.0.0,>=0.0.1 in /opt/homebrew/lib/python3.8/site-packages (from thinc<8.2.0,>=8.1.8->spacy<3.6.0,>=3.5.0->en-core-web-lg==3.5.0) (0.0.4)\n",
      "Requirement already satisfied: click<9.0.0,>=7.1.1 in /opt/homebrew/lib/python3.8/site-packages (from typer<0.8.0,>=0.3.0->spacy<3.6.0,>=3.5.0->en-core-web-lg==3.5.0) (8.1.3)\n",
      "Requirement already satisfied: MarkupSafe>=2.0 in /opt/homebrew/lib/python3.8/site-packages (from jinja2->spacy<3.6.0,>=3.5.0->en-core-web-lg==3.5.0) (2.1.3)\n",
      "Installing collected packages: en-core-web-lg\n",
      "\u001b[33m  DEPRECATION: Configuring installation scheme with distutils config files is deprecated and will no longer work in the near future. If you are using a Homebrew or Linuxbrew Python, please see discussion at https://github.com/Homebrew/homebrew-core/issues/76621\u001b[0m\u001b[33m\n",
      "\u001b[0m\u001b[33mDEPRECATION: Configuring installation scheme with distutils config files is deprecated and will no longer work in the near future. If you are using a Homebrew or Linuxbrew Python, please see discussion at https://github.com/Homebrew/homebrew-core/issues/76621\u001b[0m\u001b[33m\n",
      "\u001b[0mSuccessfully installed en-core-web-lg-3.5.0\n",
      "\u001b[38;5;2m✔ Download and installation successful\u001b[0m\n",
      "You can now load the package via spacy.load('en_core_web_lg')\n"
     ]
    }
   ],
   "source": [
    "!pip3.8 install presidio_analyzer presidio_anonymizer\n",
    "!python3.8 -m spacy download en_core_web_lg"
   ]
  },
  {
   "cell_type": "code",
   "execution_count": 38,
   "metadata": {},
   "outputs": [],
   "source": [
    "from presidio_analyzer import AnalyzerEngine\n",
    "from presidio_anonymizer import AnonymizerEngine\n",
    "from presidio_anonymizer.entities import OperatorConfig\n",
    "import re\n",
    "\n",
    "\n",
    "def anonymize(text_to_anonymize):\n",
    "    analyzer = AnalyzerEngine()\n",
    "    analyzer_results = analyzer.analyze(text=text_to_anonymize, entities=[\n",
    "                                        \"PHONE_NUMBER\", \"PERSON\", \"LOCATION\", \"ID\", \"TITLE\", \"EMAIL_ADDRESS\"], language=\"en\")\n",
    "    anonymizer = AnonymizerEngine()\n",
    "    anonymized_results = anonymizer.anonymize(\n",
    "        text=text_to_anonymize,\n",
    "        analyzer_results=analyzer_results,\n",
    "        operators={\"DEFAULT\": OperatorConfig(\"replace\", {\"new_value\": \"<ANONYMIZED>\"}),\n",
    "                   \"PHONE_NUMBER\": OperatorConfig(\"mask\", {\"type\": \"mask\", \"masking_char\": \"*\", \"chars_to_mask\": 12, \"from_end\": True}),\n",
    "                   \"PERSON\": OperatorConfig(\"mask\", {\"type\": \"mask\", \"masking_char\": \"*\", \"chars_to_mask\": 12, \"from_end\": True}),\n",
    "                   \"LOCATION\": OperatorConfig(\"mask\", {\"type\": \"mask\", \"masking_char\": \"*\", \"chars_to_mask\": 12, \"from_end\": True}),\n",
    "                   \"ID\": OperatorConfig(\"mask\", {\"type\": \"mask\", \"masking_char\": \"*\", \"chars_to_mask\": 12, \"from_end\": True}),\n",
    "                   \"TITLE\": OperatorConfig(\"mask\", {\"type\": \"mask\", \"masking_char\": \"*\", \"chars_to_mask\": 12, \"from_end\": True}),\n",
    "                   \"EMAIL_ADDRESS\": OperatorConfig(\"mask\", {\"type\": \"mask\", \"masking_char\": \"*\", \"chars_to_mask\": 12, \"from_end\": True}),\n",
    "                   },\n",
    "\n",
    "\n",
    "    )\n",
    "    output = anonymized_results.text\n",
    "\n",
    "    output = re.sub(r'/^[0-9]{13}$/', '*****', output)\n",
    "    return output"
   ]
  },
  {
   "cell_type": "code",
   "execution_count": 39,
   "metadata": {},
   "outputs": [
    {
     "data": {
      "text/plain": [
       "'My Name is ******** and my phone number is ************ My id number is 02************ and my email is f************ my location is 10 ********, *********, MA 01602'"
      ]
     },
     "execution_count": 39,
     "metadata": {},
     "output_type": "execute_result"
    }
   ],
   "source": []
  }
 ],
 "metadata": {
  "kernelspec": {
   "display_name": "Python 3",
   "language": "python",
   "name": "python3"
  },
  "language_info": {
   "codemirror_mode": {
    "name": "ipython",
    "version": 3
   },
   "file_extension": ".py",
   "mimetype": "text/x-python",
   "name": "python",
   "nbconvert_exporter": "python",
   "pygments_lexer": "ipython3",
   "version": "3.8.16"
  },
  "orig_nbformat": 4
 },
 "nbformat": 4,
 "nbformat_minor": 2
}
